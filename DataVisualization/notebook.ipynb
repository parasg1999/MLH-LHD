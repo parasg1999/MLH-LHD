{
  "nbformat": 4,
  "nbformat_minor": 0,
  "metadata": {
    "kernelspec": {
      "display_name": "Python 3",
      "language": "python",
      "name": "python3"
    },
    "language_info": {
      "codemirror_mode": {
        "name": "ipython",
        "version": 3
      },
      "file_extension": ".py",
      "mimetype": "text/x-python",
      "name": "python",
      "nbconvert_exporter": "python",
      "pygments_lexer": "ipython3",
      "version": "3.6.1"
    },
    "colab": {
      "name": "nb.ipynb",
      "provenance": [],
      "collapsed_sections": [],
      "include_colab_link": true
    }
  },
  "cells": [
    {
      "cell_type": "markdown",
      "metadata": {
        "id": "view-in-github",
        "colab_type": "text"
      },
      "source": [
        "<a href=\"https://colab.research.google.com/github/parasg1999/MLH-LHD/blob/main/DataVisualization/notebook.ipynb\" target=\"_parent\"><img src=\"https://colab.research.google.com/assets/colab-badge.svg\" alt=\"Open In Colab\"/></a>"
      ]
    },
    {
      "cell_type": "code",
      "metadata": {
        "collapsed": true,
        "id": "VSL4u3bNRjIh"
      },
      "source": [
        "import requests\n",
        "website_url = requests.get('https://en.wikipedia.org/wiki/List_of_countries_and_dependencies_by_population').text"
      ],
      "execution_count": 1,
      "outputs": []
    },
    {
      "cell_type": "code",
      "metadata": {
        "id": "Vd6Jdr2ERjIn"
      },
      "source": [
        "from bs4 import BeautifulSoup\n",
        "soup = BeautifulSoup(website_url,'lxml')\n",
        "# print(soup.prettify())"
      ],
      "execution_count": 2,
      "outputs": []
    },
    {
      "cell_type": "code",
      "metadata": {
        "id": "dGd95uDQRjIp"
      },
      "source": [
        "My_table = soup.find('table',{'class':'wikitable'})\n",
        "# My_table"
      ],
      "execution_count": 4,
      "outputs": []
    },
    {
      "cell_type": "code",
      "metadata": {
        "id": "F51RhJEORjIq"
      },
      "source": [
        "allRows = My_table.tbody.findAll('tr')\n",
        "allRows = allRows[1:10]\n",
        "countries = []\n",
        "pop = []\n",
        "for row in allRows:\n",
        "  countries.append(row.find('a').text)\n",
        "  pop.append(int(row.findAll('td')[1].text.replace(',','')))"
      ],
      "execution_count": 5,
      "outputs": []
    },
    {
      "cell_type": "code",
      "metadata": {
        "colab": {
          "base_uri": "https://localhost:8080/"
        },
        "id": "9bo9d565RjIq",
        "outputId": "bb4d4326-315f-43cb-cd5b-25a7525ea980"
      },
      "source": [
        "len(pop)"
      ],
      "execution_count": 70,
      "outputs": [
        {
          "output_type": "execute_result",
          "data": {
            "text/plain": [
              "49"
            ]
          },
          "metadata": {
            "tags": []
          },
          "execution_count": 70
        }
      ]
    },
    {
      "cell_type": "code",
      "metadata": {
        "colab": {
          "base_uri": "https://localhost:8080/",
          "height": 717
        },
        "id": "dmISDu5aRjIr",
        "outputId": "850b4cf6-8e81-497b-c8d4-caabc271f73c"
      },
      "source": [
        "from matplotlib import pyplot as plt \n",
        "\n",
        "fig = plt.figure(figsize =(10, 7)) \n",
        "plt.pie(pop, labels = countries) "
      ],
      "execution_count": 6,
      "outputs": [
        {
          "output_type": "execute_result",
          "data": {
            "text/plain": [
              "([<matplotlib.patches.Wedge at 0x7fd832c48710>,\n",
              "  <matplotlib.patches.Wedge at 0x7fd832c48c50>,\n",
              "  <matplotlib.patches.Wedge at 0x7fd832c5e198>,\n",
              "  <matplotlib.patches.Wedge at 0x7fd832c5e6a0>,\n",
              "  <matplotlib.patches.Wedge at 0x7fd832c5eba8>,\n",
              "  <matplotlib.patches.Wedge at 0x7fd832c6a0f0>,\n",
              "  <matplotlib.patches.Wedge at 0x7fd832c6a5f8>,\n",
              "  <matplotlib.patches.Wedge at 0x7fd832c6ab00>,\n",
              "  <matplotlib.patches.Wedge at 0x7fd832c6afd0>],\n",
              " [Text(0.579291264124851, 0.935105144520461, 'China'),\n",
              "  Text(-1.0923796380864648, 0.1292545020263681, 'India'),\n",
              "  Text(-0.4862795886596683, -0.986677334113328, 'United States'),\n",
              "  Text(-0.02418223632294458, -1.099734158533971, 'Indonesia'),\n",
              "  Text(0.3642371740339168, -1.0379457023620196, 'Pakistan'),\n",
              "  Text(0.6690864949372967, -0.873111254246859, 'Brazil'),\n",
              "  Text(0.9012792608531514, -0.6306311869516108, 'Nigeria'),\n",
              "  Text(1.0388774687855886, -0.3615710232439107, 'Bangladesh'),\n",
              "  Text(1.093820467858931, -0.11643360379576725, 'Russia')])"
            ]
          },
          "metadata": {
            "tags": []
          },
          "execution_count": 6
        },
        {
          "output_type": "display_data",
          "data": {
            "image/png": "[encoded data removed]",
            "text/plain": [
              "<Figure size 720x504 with 1 Axes>"
            ]
          },
          "metadata": {
            "tags": []
          }
        }
      ]
    }
  ]
}